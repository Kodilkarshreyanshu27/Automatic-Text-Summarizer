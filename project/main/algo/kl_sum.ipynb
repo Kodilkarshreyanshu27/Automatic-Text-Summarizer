{
  "cells": [
    {
      "cell_type": "code",
      "execution_count": 1,
      "metadata": {
        "colab": {
          "base_uri": "https://localhost:8080/"
        },
        "id": "qsDEks_2UxlI",
        "outputId": "13297abf-f478-4ba2-c8d5-5bbfcb7bf3ee"
      },
      "outputs": [
        {
          "name": "stdout",
          "output_type": "stream",
          "text": [
            "Requirement already satisfied: sumy in /home/atharva007/Documents/GitHub/Automatic-Text-Summarizer/myenv/lib/python3.8/site-packages (0.11.0)\n",
            "Requirement already satisfied: breadability>=0.1.20 in /home/atharva007/Documents/GitHub/Automatic-Text-Summarizer/myenv/lib/python3.8/site-packages (from sumy) (0.1.20)\n",
            "Requirement already satisfied: requests>=2.7.0 in /home/atharva007/Documents/GitHub/Automatic-Text-Summarizer/myenv/lib/python3.8/site-packages (from sumy) (2.28.2)\n",
            "Requirement already satisfied: nltk>=3.0.2 in /home/atharva007/Documents/GitHub/Automatic-Text-Summarizer/myenv/lib/python3.8/site-packages (from sumy) (3.8.1)\n",
            "Requirement already satisfied: docopt<0.7,>=0.6.1 in /home/atharva007/Documents/GitHub/Automatic-Text-Summarizer/myenv/lib/python3.8/site-packages (from sumy) (0.6.2)\n",
            "Requirement already satisfied: pycountry>=18.2.23 in /home/atharva007/Documents/GitHub/Automatic-Text-Summarizer/myenv/lib/python3.8/site-packages (from sumy) (22.3.5)\n",
            "Requirement already satisfied: chardet in /home/atharva007/Documents/GitHub/Automatic-Text-Summarizer/myenv/lib/python3.8/site-packages (from breadability>=0.1.20->sumy) (5.1.0)\n",
            "Requirement already satisfied: lxml>=2.0 in /home/atharva007/Documents/GitHub/Automatic-Text-Summarizer/myenv/lib/python3.8/site-packages (from breadability>=0.1.20->sumy) (4.9.2)\n",
            "Requirement already satisfied: certifi>=2017.4.17 in /home/atharva007/Documents/GitHub/Automatic-Text-Summarizer/myenv/lib/python3.8/site-packages (from requests>=2.7.0->sumy) (2022.12.7)\n",
            "Requirement already satisfied: idna<4,>=2.5 in /home/atharva007/Documents/GitHub/Automatic-Text-Summarizer/myenv/lib/python3.8/site-packages (from requests>=2.7.0->sumy) (3.4)\n",
            "Requirement already satisfied: urllib3<1.27,>=1.21.1 in /home/atharva007/Documents/GitHub/Automatic-Text-Summarizer/myenv/lib/python3.8/site-packages (from requests>=2.7.0->sumy) (1.26.15)\n",
            "Requirement already satisfied: charset-normalizer<4,>=2 in /home/atharva007/Documents/GitHub/Automatic-Text-Summarizer/myenv/lib/python3.8/site-packages (from requests>=2.7.0->sumy) (3.1.0)\n",
            "Requirement already satisfied: joblib in /home/atharva007/Documents/GitHub/Automatic-Text-Summarizer/myenv/lib/python3.8/site-packages (from nltk>=3.0.2->sumy) (1.2.0)\n",
            "Requirement already satisfied: click in /home/atharva007/Documents/GitHub/Automatic-Text-Summarizer/myenv/lib/python3.8/site-packages (from nltk>=3.0.2->sumy) (8.1.3)\n",
            "Requirement already satisfied: regex>=2021.8.3 in /home/atharva007/Documents/GitHub/Automatic-Text-Summarizer/myenv/lib/python3.8/site-packages (from nltk>=3.0.2->sumy) (2023.3.23)\n",
            "Requirement already satisfied: tqdm in /home/atharva007/Documents/GitHub/Automatic-Text-Summarizer/myenv/lib/python3.8/site-packages (from nltk>=3.0.2->sumy) (4.65.0)\n",
            "Requirement already satisfied: setuptools in /home/atharva007/Documents/GitHub/Automatic-Text-Summarizer/myenv/lib/python3.8/site-packages (from pycountry>=18.2.23->sumy) (44.0.0)\n",
            "Note: you may need to restart the kernel to use updated packages.\n"
          ]
        }
      ],
      "source": [
        "pip install sumy"
      ]
    },
    {
      "cell_type": "code",
      "execution_count": 2,
      "metadata": {
        "id": "coHLJ_TSY75t"
      },
      "outputs": [],
      "source": [
        "import sumy"
      ]
    },
    {
      "cell_type": "code",
      "execution_count": 3,
      "metadata": {
        "id": "QnG97h1bY8RT"
      },
      "outputs": [],
      "source": [
        "from sumy.parsers.plaintext import PlaintextParser\n",
        "from sumy.nlp.tokenizers import Tokenizer\n",
        "from sumy.summarizers.kl import KLSummarizer\n"
      ]
    },
    {
      "cell_type": "code",
      "execution_count": 4,
      "metadata": {
        "id": "ZosaC1AeY-1z"
      },
      "outputs": [],
      "source": [
        "document =\"\"\"Machine learning is a branch of artificial intelligence (AI) and computer science which focuses on the use of data and algorithms to imitate the way that humans learn, gradually improving its accuracy.\n",
        "\n",
        "IBM has a rich history with machine learning. One of its own, Arthur Samuel, is credited for coining the term, “machine learning” with his research (PDF, 481 KB) (link resides outside IBM) around the game of checkers. Robert Nealey, the self-proclaimed checkers master, played the game on an IBM 7094 computer in 1962, and he lost to the computer. Compared to what can be done today, this feat seems trivial, but it’s considered a major milestone in the field of artificial intelligence.\n",
        "\n",
        "Over the last couple of decades, the technological advances in storage and processing power have enabled some innovative products based on machine learning, such as Netflix’s recommendation engine and self-driving cars.\n",
        "\n",
        "Machine learning is an important component of the growing field of data science. Through the use of statistical methods, algorithms are trained to make classifications or predictions, and to uncover key insights in data mining projects. These insights subsequently drive decision making within applications and businesses, ideally impacting key growth metrics. As big data continues to expand and grow, the market demand for data scientists will increase. They will be required to help identify the most relevant business questions and the data to answer them.\n",
        "\n",
        "Machine learning algorithms are typically created using frameworks that accelerate solution development, such as TensorFlow and PyTorch.\"\"\""
      ]
    },
    {
      "cell_type": "code",
      "execution_count": 5,
      "metadata": {
        "colab": {
          "base_uri": "https://localhost:8080/"
        },
        "id": "JEWrtlQtZE_r",
        "outputId": "50617c6c-41ac-4676-d41f-49da1a864b2c"
      },
      "outputs": [
        {
          "name": "stderr",
          "output_type": "stream",
          "text": [
            "[nltk_data] Downloading package punkt to /home/atharva007/nltk_data...\n",
            "[nltk_data]   Unzipping tokenizers/punkt.zip.\n"
          ]
        },
        {
          "data": {
            "text/plain": [
              "True"
            ]
          },
          "execution_count": 5,
          "metadata": {},
          "output_type": "execute_result"
        }
      ],
      "source": [
        "import nltk\n",
        "nltk.download('punkt')"
      ]
    },
    {
      "cell_type": "code",
      "execution_count": 6,
      "metadata": {
        "id": "r1KmSWQjZCmP"
      },
      "outputs": [],
      "source": [
        "# For Strings\n",
        "parser=PlaintextParser.from_string(document,Tokenizer(\"english\"))\n",
        "# Using KL\n",
        "summarizer = KLSummarizer()\n",
        "#Summarize the document with 4 sentences\n",
        "summary = summarizer(parser.document,4)\n"
      ]
    },
    {
      "cell_type": "code",
      "execution_count": 7,
      "metadata": {
        "colab": {
          "base_uri": "https://localhost:8080/"
        },
        "id": "wjTIHNg5ZPCz",
        "outputId": "8feaf3fe-a23a-46fc-ff7f-7b485cd1ea5e"
      },
      "outputs": [
        {
          "name": "stdout",
          "output_type": "stream",
          "text": [
            "IBM has a rich history with machine learning.\n",
            "One of its own, Arthur Samuel, is credited for coining the term, “machine learning” with his research (PDF, 481 KB) (link resides outside IBM) around the game of checkers.\n",
            "Machine learning is an important component of the growing field of data science.\n",
            "They will be required to help identify the most relevant business questions and the data to answer them.\n"
          ]
        }
      ],
      "source": [
        "for sentence in summary:\n",
        "    print(sentence)"
      ]
    },
    {
      "cell_type": "code",
      "execution_count": null,
      "metadata": {
        "id": "6BO2d0cOZZ4L"
      },
      "outputs": [],
      "source": []
    }
  ],
  "metadata": {
    "colab": {
      "provenance": []
    },
    "kernelspec": {
      "display_name": "Python 3",
      "name": "python3"
    },
    "language_info": {
      "codemirror_mode": {
        "name": "ipython",
        "version": 3
      },
      "file_extension": ".py",
      "mimetype": "text/x-python",
      "name": "python",
      "nbconvert_exporter": "python",
      "pygments_lexer": "ipython3",
      "version": "3.8.10"
    }
  },
  "nbformat": 4,
  "nbformat_minor": 0
}
