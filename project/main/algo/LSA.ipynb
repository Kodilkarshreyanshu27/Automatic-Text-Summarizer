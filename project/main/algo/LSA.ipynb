{
  "cells": [
    {
      "cell_type": "code",
      "execution_count": 10,
      "metadata": {
        "colab": {
          "base_uri": "https://localhost:8080/"
        },
        "id": "PjQHqKbxTzlL",
        "outputId": "ee75568d-bf05-4ae9-89c5-75d4370f4b63"
      },
      "outputs": [
        {
          "name": "stdout",
          "output_type": "stream",
          "text": [
            "Requirement already satisfied: sumy in /home/atharva007/Documents/GitHub/Automatic-Text-Summarizer/myenv/lib/python3.8/site-packages (0.11.0)\n",
            "Requirement already satisfied: breadability>=0.1.20 in /home/atharva007/Documents/GitHub/Automatic-Text-Summarizer/myenv/lib/python3.8/site-packages (from sumy) (0.1.20)\n",
            "Requirement already satisfied: requests>=2.7.0 in /home/atharva007/Documents/GitHub/Automatic-Text-Summarizer/myenv/lib/python3.8/site-packages (from sumy) (2.28.2)\n",
            "Requirement already satisfied: pycountry>=18.2.23 in /home/atharva007/Documents/GitHub/Automatic-Text-Summarizer/myenv/lib/python3.8/site-packages (from sumy) (22.3.5)\n",
            "Requirement already satisfied: nltk>=3.0.2 in /home/atharva007/Documents/GitHub/Automatic-Text-Summarizer/myenv/lib/python3.8/site-packages (from sumy) (3.8.1)\n",
            "Requirement already satisfied: docopt<0.7,>=0.6.1 in /home/atharva007/Documents/GitHub/Automatic-Text-Summarizer/myenv/lib/python3.8/site-packages (from sumy) (0.6.2)\n",
            "Requirement already satisfied: chardet in /home/atharva007/Documents/GitHub/Automatic-Text-Summarizer/myenv/lib/python3.8/site-packages (from breadability>=0.1.20->sumy) (5.1.0)\n",
            "Requirement already satisfied: lxml>=2.0 in /home/atharva007/Documents/GitHub/Automatic-Text-Summarizer/myenv/lib/python3.8/site-packages (from breadability>=0.1.20->sumy) (4.9.2)\n",
            "Requirement already satisfied: idna<4,>=2.5 in /home/atharva007/Documents/GitHub/Automatic-Text-Summarizer/myenv/lib/python3.8/site-packages (from requests>=2.7.0->sumy) (3.4)\n",
            "Requirement already satisfied: certifi>=2017.4.17 in /home/atharva007/Documents/GitHub/Automatic-Text-Summarizer/myenv/lib/python3.8/site-packages (from requests>=2.7.0->sumy) (2022.12.7)\n",
            "Requirement already satisfied: urllib3<1.27,>=1.21.1 in /home/atharva007/Documents/GitHub/Automatic-Text-Summarizer/myenv/lib/python3.8/site-packages (from requests>=2.7.0->sumy) (1.26.15)\n",
            "Requirement already satisfied: charset-normalizer<4,>=2 in /home/atharva007/Documents/GitHub/Automatic-Text-Summarizer/myenv/lib/python3.8/site-packages (from requests>=2.7.0->sumy) (3.1.0)\n",
            "Requirement already satisfied: setuptools in /home/atharva007/Documents/GitHub/Automatic-Text-Summarizer/myenv/lib/python3.8/site-packages (from pycountry>=18.2.23->sumy) (44.0.0)\n",
            "Requirement already satisfied: joblib in /home/atharva007/Documents/GitHub/Automatic-Text-Summarizer/myenv/lib/python3.8/site-packages (from nltk>=3.0.2->sumy) (1.2.0)\n",
            "Requirement already satisfied: regex>=2021.8.3 in /home/atharva007/Documents/GitHub/Automatic-Text-Summarizer/myenv/lib/python3.8/site-packages (from nltk>=3.0.2->sumy) (2023.3.23)\n",
            "Requirement already satisfied: tqdm in /home/atharva007/Documents/GitHub/Automatic-Text-Summarizer/myenv/lib/python3.8/site-packages (from nltk>=3.0.2->sumy) (4.65.0)\n",
            "Requirement already satisfied: click in /home/atharva007/Documents/GitHub/Automatic-Text-Summarizer/myenv/lib/python3.8/site-packages (from nltk>=3.0.2->sumy) (8.1.3)\n",
            "Note: you may need to restart the kernel to use updated packages.\n"
          ]
        }
      ],
      "source": [
        "pip install sumy"
      ]
    },
    {
      "cell_type": "code",
      "execution_count": 11,
      "metadata": {
        "id": "GZozwqtOTa1I"
      },
      "outputs": [],
      "source": [
        "import sumy"
      ]
    },
    {
      "cell_type": "code",
      "execution_count": 12,
      "metadata": {
        "id": "WFkTTiD-Tf5p"
      },
      "outputs": [],
      "source": [
        "from sumy.parsers.plaintext import PlaintextParser\n",
        "from sumy.nlp.tokenizers import Tokenizer\n",
        "from sumy.summarizers.lex_rank import LexRankSummarizer "
      ]
    },
    {
      "cell_type": "code",
      "execution_count": 13,
      "metadata": {
        "id": "ZLrOb3kPTw1y"
      },
      "outputs": [],
      "source": [
        "document1 =\"\"\"Machine learning is a branch of artificial intelligence (AI) and computer science which focuses on the use of data and algorithms to imitate the way that humans learn, gradually improving its accuracy.\n",
        "\n",
        "IBM has a rich history with machine learning. One of its own, Arthur Samuel, is credited for coining the term, “machine learning” with his research (PDF, 481 KB) (link resides outside IBM) around the game of checkers. Robert Nealey, the self-proclaimed checkers master, played the game on an IBM 7094 computer in 1962, and he lost to the computer. Compared to what can be done today, this feat seems trivial, but it’s considered a major milestone in the field of artificial intelligence.\n",
        "\n",
        "Over the last couple of decades, the technological advances in storage and processing power have enabled some innovative products based on machine learning, such as Netflix’s recommendation engine and self-driving cars.\n",
        "\n",
        "Machine learning is an important component of the growing field of data science. Through the use of statistical methods, algorithms are trained to make classifications or predictions, and to uncover key insights in data mining projects. These insights subsequently drive decision making within applications and businesses, ideally impacting key growth metrics. As big data continues to expand and grow, the market demand for data scientists will increase. They will be required to help identify the most relevant business questions and the data to answer them.\n",
        "\n",
        "Machine learning algorithms are typically created using frameworks that accelerate solution development, such as TensorFlow and PyTorch.\"\"\""
      ]
    },
    {
      "cell_type": "code",
      "execution_count": 14,
      "metadata": {
        "colab": {
          "base_uri": "https://localhost:8080/"
        },
        "id": "LmMc5s14UI-Q",
        "outputId": "79745f06-b33d-42bf-f0af-9ffec554d482"
      },
      "outputs": [
        {
          "name": "stderr",
          "output_type": "stream",
          "text": [
            "[nltk_data] Downloading package punkt to /home/atharva007/nltk_data...\n",
            "[nltk_data]   Package punkt is already up-to-date!\n"
          ]
        },
        {
          "data": {
            "text/plain": [
              "True"
            ]
          },
          "execution_count": 14,
          "metadata": {},
          "output_type": "execute_result"
        }
      ],
      "source": [
        "import nltk\n",
        "nltk.download('punkt')"
      ]
    },
    {
      "cell_type": "code",
      "execution_count": 15,
      "metadata": {
        "id": "0WxJx6ccUBYA"
      },
      "outputs": [],
      "source": [
        "parser = PlaintextParser.from_string(document1,Tokenizer(\"english\"))"
      ]
    },
    {
      "cell_type": "code",
      "execution_count": 16,
      "metadata": {
        "id": "db_ccCrPUNWI"
      },
      "outputs": [],
      "source": [
        "from sumy.summarizers.lsa import LsaSummarizer"
      ]
    },
    {
      "cell_type": "code",
      "execution_count": 17,
      "metadata": {
        "id": "6xqpdlpBUUqI"
      },
      "outputs": [],
      "source": [
        "summarizer_lsa = LsaSummarizer()\n"
      ]
    },
    {
      "cell_type": "code",
      "execution_count": 18,
      "metadata": {
        "id": "WcSUkYobUfpX"
      },
      "outputs": [
        {
          "ename": "ValueError",
          "evalue": "LSA summarizer requires NumPy. Please, install it by command 'pip install numpy'.",
          "output_type": "error",
          "traceback": [
            "\u001b[0;31m---------------------------------------------------------------------------\u001b[0m",
            "\u001b[0;31mValueError\u001b[0m                                Traceback (most recent call last)",
            "Cell \u001b[0;32mIn[18], line 1\u001b[0m\n\u001b[0;32m----> 1\u001b[0m summary_2 \u001b[39m=\u001b[39msummarizer_lsa(parser\u001b[39m.\u001b[39;49mdocument,\u001b[39m2\u001b[39;49m)\n",
            "File \u001b[0;32m~/Documents/GitHub/Automatic-Text-Summarizer/myenv/lib/python3.8/site-packages/sumy/summarizers/lsa.py:36\u001b[0m, in \u001b[0;36mLsaSummarizer.__call__\u001b[0;34m(self, document, sentences_count)\u001b[0m\n\u001b[1;32m     35\u001b[0m \u001b[39mdef\u001b[39;00m \u001b[39m__call__\u001b[39m(\u001b[39mself\u001b[39m, document, sentences_count):\n\u001b[0;32m---> 36\u001b[0m     \u001b[39mself\u001b[39;49m\u001b[39m.\u001b[39;49m_ensure_dependecies_installed()\n\u001b[1;32m     38\u001b[0m     dictionary \u001b[39m=\u001b[39m \u001b[39mself\u001b[39m\u001b[39m.\u001b[39m_create_dictionary(document)\n\u001b[1;32m     39\u001b[0m     \u001b[39m# empty document\u001b[39;00m\n",
            "File \u001b[0;32m~/Documents/GitHub/Automatic-Text-Summarizer/myenv/lib/python3.8/site-packages/sumy/summarizers/lsa.py:53\u001b[0m, in \u001b[0;36mLsaSummarizer._ensure_dependecies_installed\u001b[0;34m(self)\u001b[0m\n\u001b[1;32m     51\u001b[0m \u001b[39mdef\u001b[39;00m \u001b[39m_ensure_dependecies_installed\u001b[39m(\u001b[39mself\u001b[39m):\n\u001b[1;32m     52\u001b[0m     \u001b[39mif\u001b[39;00m numpy \u001b[39mis\u001b[39;00m \u001b[39mNone\u001b[39;00m:\n\u001b[0;32m---> 53\u001b[0m         \u001b[39mraise\u001b[39;00m \u001b[39mValueError\u001b[39;00m(\u001b[39m\"\u001b[39m\u001b[39mLSA summarizer requires NumPy. Please, install it by command \u001b[39m\u001b[39m'\u001b[39m\u001b[39mpip install numpy\u001b[39m\u001b[39m'\u001b[39m\u001b[39m.\u001b[39m\u001b[39m\"\u001b[39m)\n",
            "\u001b[0;31mValueError\u001b[0m: LSA summarizer requires NumPy. Please, install it by command 'pip install numpy'."
          ]
        }
      ],
      "source": [
        "\n",
        "summary_2 =summarizer_lsa(parser.document,2)"
      ]
    },
    {
      "cell_type": "code",
      "execution_count": null,
      "metadata": {
        "colab": {
          "base_uri": "https://localhost:8080/"
        },
        "id": "bgbntkriUiHf",
        "outputId": "df9868f1-bebc-4b42-8323-9e4cd307871a"
      },
      "outputs": [
        {
          "name": "stdout",
          "output_type": "stream",
          "text": [
            "Compared to what can be done today, this feat seems trivial, but it’s considered a major milestone in the field of artificial intelligence.\n",
            "Machine learning algorithms are typically created using frameworks that accelerate solution development, such as TensorFlow and PyTorch.\n"
          ]
        }
      ],
      "source": [
        "for sentence in summary_2:\n",
        "    print(sentence)"
      ]
    },
    {
      "cell_type": "code",
      "execution_count": null,
      "metadata": {
        "id": "24ZBXHWrUkBn"
      },
      "outputs": [],
      "source": []
    }
  ],
  "metadata": {
    "colab": {
      "provenance": []
    },
    "kernelspec": {
      "display_name": "Python 3",
      "name": "python3"
    },
    "language_info": {
      "codemirror_mode": {
        "name": "ipython",
        "version": 3
      },
      "file_extension": ".py",
      "mimetype": "text/x-python",
      "name": "python",
      "nbconvert_exporter": "python",
      "pygments_lexer": "ipython3",
      "version": "3.8.10"
    }
  },
  "nbformat": 4,
  "nbformat_minor": 0
}
